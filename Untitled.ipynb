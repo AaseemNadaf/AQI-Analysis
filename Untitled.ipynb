{
 "cells": [
  {
   "cell_type": "code",
   "execution_count": 5,
   "id": "35d47ba2-aee3-4be6-84e0-abddf02f7d77",
   "metadata": {},
   "outputs": [],
   "source": [
    "import pandas as pd\n",
    "import matplotlib.pyplot as plt\n",
    "import seaborn as sns\n",
    "\n",
    "# Optional: For better visuals\n",
    "sns.set(style=\"whitegrid\")\n"
   ]
  },
  {
   "cell_type": "code",
   "execution_count": 6,
   "id": "4a1cb14b-9038-422a-bb3b-909528000e22",
   "metadata": {},
   "outputs": [],
   "source": [
    "# Load the CSV file\n",
    "file_path = r\"C:\\Users\\aasee\\Downloads\\AQI.csv\"\n",
    "df = pd.read_csv(file_path)\n",
    "\n",
    "# Convert 'last_update' to datetime format\n",
    "df['last_update'] = pd.to_datetime(df['last_update'], format='%d-%m-%Y %H:%M')\n"
   ]
  },
  {
   "cell_type": "code",
   "execution_count": 7,
   "id": "02c4d76c-0254-4c5f-8421-594b508834f2",
   "metadata": {},
   "outputs": [
    {
     "name": "stdout",
     "output_type": "stream",
     "text": [
      "<class 'pandas.core.frame.DataFrame'>\n",
      "RangeIndex: 3159 entries, 0 to 3158\n",
      "Data columns (total 11 columns):\n",
      " #   Column         Non-Null Count  Dtype         \n",
      "---  ------         --------------  -----         \n",
      " 0   country        3159 non-null   object        \n",
      " 1   state          3159 non-null   object        \n",
      " 2   city           3159 non-null   object        \n",
      " 3   station        3159 non-null   object        \n",
      " 4   last_update    3159 non-null   datetime64[ns]\n",
      " 5   latitude       3159 non-null   float64       \n",
      " 6   longitude      3159 non-null   float64       \n",
      " 7   pollutant_id   3159 non-null   object        \n",
      " 8   pollutant_min  2934 non-null   float64       \n",
      " 9   pollutant_max  2934 non-null   float64       \n",
      " 10  pollutant_avg  2934 non-null   float64       \n",
      "dtypes: datetime64[ns](1), float64(5), object(5)\n",
      "memory usage: 271.6+ KB\n"
     ]
    }
   ],
   "source": [
    "# Display basic info\n",
    "df.info()"
   ]
  },
  {
   "cell_type": "code",
   "execution_count": 8,
   "id": "6eddd6eb-ff42-4c45-a00f-3f55d0f55558",
   "metadata": {},
   "outputs": [
    {
     "data": {
      "text/plain": [
       "country            0\n",
       "state              0\n",
       "city               0\n",
       "station            0\n",
       "last_update        0\n",
       "latitude           0\n",
       "longitude          0\n",
       "pollutant_id       0\n",
       "pollutant_min    225\n",
       "pollutant_max    225\n",
       "pollutant_avg    225\n",
       "dtype: int64"
      ]
     },
     "execution_count": 8,
     "metadata": {},
     "output_type": "execute_result"
    }
   ],
   "source": [
    "# Check for missing values\n",
    "df.isnull().sum()"
   ]
  },
  {
   "cell_type": "code",
   "execution_count": 9,
   "id": "1f19d4d4-3095-4e49-8113-aebfe15b1e20",
   "metadata": {},
   "outputs": [
    {
     "data": {
      "text/html": [
       "<div>\n",
       "<style scoped>\n",
       "    .dataframe tbody tr th:only-of-type {\n",
       "        vertical-align: middle;\n",
       "    }\n",
       "\n",
       "    .dataframe tbody tr th {\n",
       "        vertical-align: top;\n",
       "    }\n",
       "\n",
       "    .dataframe thead th {\n",
       "        text-align: right;\n",
       "    }\n",
       "</style>\n",
       "<table border=\"1\" class=\"dataframe\">\n",
       "  <thead>\n",
       "    <tr style=\"text-align: right;\">\n",
       "      <th></th>\n",
       "      <th>country</th>\n",
       "      <th>state</th>\n",
       "      <th>city</th>\n",
       "      <th>station</th>\n",
       "      <th>last_update</th>\n",
       "      <th>latitude</th>\n",
       "      <th>longitude</th>\n",
       "      <th>pollutant_id</th>\n",
       "      <th>pollutant_min</th>\n",
       "      <th>pollutant_max</th>\n",
       "      <th>pollutant_avg</th>\n",
       "    </tr>\n",
       "  </thead>\n",
       "  <tbody>\n",
       "    <tr>\n",
       "      <th>0</th>\n",
       "      <td>India</td>\n",
       "      <td>Assam</td>\n",
       "      <td>Guwahati</td>\n",
       "      <td>LGBI Airport, Guwahati - PCBA</td>\n",
       "      <td>2025-04-16 10:00:00</td>\n",
       "      <td>26.108870</td>\n",
       "      <td>91.589544</td>\n",
       "      <td>PM2.5</td>\n",
       "      <td>35.0</td>\n",
       "      <td>317.0</td>\n",
       "      <td>90.0</td>\n",
       "    </tr>\n",
       "    <tr>\n",
       "      <th>1</th>\n",
       "      <td>India</td>\n",
       "      <td>Assam</td>\n",
       "      <td>Guwahati</td>\n",
       "      <td>LGBI Airport, Guwahati - PCBA</td>\n",
       "      <td>2025-04-16 10:00:00</td>\n",
       "      <td>26.108870</td>\n",
       "      <td>91.589544</td>\n",
       "      <td>NH3</td>\n",
       "      <td>15.0</td>\n",
       "      <td>17.0</td>\n",
       "      <td>17.0</td>\n",
       "    </tr>\n",
       "    <tr>\n",
       "      <th>2</th>\n",
       "      <td>India</td>\n",
       "      <td>Assam</td>\n",
       "      <td>Guwahati</td>\n",
       "      <td>LGBI Airport, Guwahati - PCBA</td>\n",
       "      <td>2025-04-16 10:00:00</td>\n",
       "      <td>26.108870</td>\n",
       "      <td>91.589544</td>\n",
       "      <td>OZONE</td>\n",
       "      <td>13.0</td>\n",
       "      <td>20.0</td>\n",
       "      <td>16.0</td>\n",
       "    </tr>\n",
       "    <tr>\n",
       "      <th>3</th>\n",
       "      <td>India</td>\n",
       "      <td>Assam</td>\n",
       "      <td>Guwahati</td>\n",
       "      <td>Pan Bazaar, Guwahati - PCBA</td>\n",
       "      <td>2025-04-16 10:00:00</td>\n",
       "      <td>26.187500</td>\n",
       "      <td>91.744194</td>\n",
       "      <td>CO</td>\n",
       "      <td>16.0</td>\n",
       "      <td>52.0</td>\n",
       "      <td>39.0</td>\n",
       "    </tr>\n",
       "    <tr>\n",
       "      <th>4</th>\n",
       "      <td>India</td>\n",
       "      <td>Assam</td>\n",
       "      <td>Nagaon</td>\n",
       "      <td>Christianpatty, Nagaon - PCBA</td>\n",
       "      <td>2025-04-16 10:00:00</td>\n",
       "      <td>26.349082</td>\n",
       "      <td>92.684490</td>\n",
       "      <td>NO2</td>\n",
       "      <td>6.0</td>\n",
       "      <td>13.0</td>\n",
       "      <td>9.0</td>\n",
       "    </tr>\n",
       "  </tbody>\n",
       "</table>\n",
       "</div>"
      ],
      "text/plain": [
       "  country  state      city                        station         last_update  \\\n",
       "0   India  Assam  Guwahati  LGBI Airport, Guwahati - PCBA 2025-04-16 10:00:00   \n",
       "1   India  Assam  Guwahati  LGBI Airport, Guwahati - PCBA 2025-04-16 10:00:00   \n",
       "2   India  Assam  Guwahati  LGBI Airport, Guwahati - PCBA 2025-04-16 10:00:00   \n",
       "3   India  Assam  Guwahati    Pan Bazaar, Guwahati - PCBA 2025-04-16 10:00:00   \n",
       "4   India  Assam    Nagaon  Christianpatty, Nagaon - PCBA 2025-04-16 10:00:00   \n",
       "\n",
       "    latitude  longitude pollutant_id  pollutant_min  pollutant_max  \\\n",
       "0  26.108870  91.589544        PM2.5           35.0          317.0   \n",
       "1  26.108870  91.589544          NH3           15.0           17.0   \n",
       "2  26.108870  91.589544        OZONE           13.0           20.0   \n",
       "3  26.187500  91.744194           CO           16.0           52.0   \n",
       "4  26.349082  92.684490          NO2            6.0           13.0   \n",
       "\n",
       "   pollutant_avg  \n",
       "0           90.0  \n",
       "1           17.0  \n",
       "2           16.0  \n",
       "3           39.0  \n",
       "4            9.0  "
      ]
     },
     "execution_count": 9,
     "metadata": {},
     "output_type": "execute_result"
    }
   ],
   "source": [
    "df.head()"
   ]
  },
  {
   "cell_type": "code",
   "execution_count": 10,
   "id": "3ee77e29-c2ee-4517-b33d-4c95cf5f4f74",
   "metadata": {},
   "outputs": [
    {
     "data": {
      "text/plain": [
       "pollutant_id\n",
       "PM2.5    468\n",
       "PM10     467\n",
       "NO2      463\n",
       "CO       454\n",
       "SO2      450\n",
       "OZONE    443\n",
       "NH3      414\n",
       "Name: count, dtype: int64"
      ]
     },
     "execution_count": 10,
     "metadata": {},
     "output_type": "execute_result"
    }
   ],
   "source": [
    "pollutant_counts = df['pollutant_id'].value_counts()\n",
    "pollutant_counts"
   ]
  },
  {
   "cell_type": "code",
   "execution_count": null,
   "id": "16c70078-d132-4caf-b3fe-0157a57e9ee7",
   "metadata": {},
   "outputs": [],
   "source": []
  }
 ],
 "metadata": {
  "kernelspec": {
   "display_name": "Python 3 (ipykernel)",
   "language": "python",
   "name": "python3"
  },
  "language_info": {
   "codemirror_mode": {
    "name": "ipython",
    "version": 3
   },
   "file_extension": ".py",
   "mimetype": "text/x-python",
   "name": "python",
   "nbconvert_exporter": "python",
   "pygments_lexer": "ipython3",
   "version": "3.12.4"
  }
 },
 "nbformat": 4,
 "nbformat_minor": 5
}
